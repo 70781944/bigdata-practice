{
 "cells": [
  {
   "cell_type": "markdown",
   "metadata": {},
   "source": [
    "# AdaBoost 对房价的预测"
   ]
  },
  {
   "cell_type": "code",
   "execution_count": 22,
   "metadata": {},
   "outputs": [
    {
     "name": "stdout",
     "output_type": "stream",
     "text": [
      "[[6.3200e-03 1.8000e+01 2.3100e+00 ... 1.5300e+01 3.9690e+02 4.9800e+00]\n",
      " [2.7310e-02 0.0000e+00 7.0700e+00 ... 1.7800e+01 3.9690e+02 9.1400e+00]\n",
      " [2.7290e-02 0.0000e+00 7.0700e+00 ... 1.7800e+01 3.9283e+02 4.0300e+00]\n",
      " ...\n",
      " [6.0760e-02 0.0000e+00 1.1930e+01 ... 2.1000e+01 3.9690e+02 5.6400e+00]\n",
      " [1.0959e-01 0.0000e+00 1.1930e+01 ... 2.1000e+01 3.9345e+02 6.4800e+00]\n",
      " [4.7410e-02 0.0000e+00 1.1930e+01 ... 2.1000e+01 3.9690e+02 7.8800e+00]]\n",
      "------------------------------\n",
      "[24.  21.6 34.7 33.4 36.2 28.7 22.9 27.1 16.5 18.9 15.  18.9 21.7 20.4\n",
      " 18.2 19.9 23.1 17.5 20.2 18.2 13.6 19.6 15.2 14.5 15.6 13.9 16.6 14.8\n",
      " 18.4 21.  12.7 14.5 13.2 13.1 13.5 18.9 20.  21.  24.7 30.8 34.9 26.6\n",
      " 25.3 24.7 21.2 19.3 20.  16.6 14.4 19.4 19.7 20.5 25.  23.4 18.9 35.4\n",
      " 24.7 31.6 23.3 19.6 18.7 16.  22.2 25.  33.  23.5 19.4 22.  17.4 20.9\n",
      " 24.2 21.7 22.8 23.4 24.1 21.4 20.  20.8 21.2 20.3 28.  23.9 24.8 22.9\n",
      " 23.9 26.6 22.5 22.2 23.6 28.7 22.6 22.  22.9 25.  20.6 28.4 21.4 38.7\n",
      " 43.8 33.2 27.5 26.5 18.6 19.3 20.1 19.5 19.5 20.4 19.8 19.4 21.7 22.8\n",
      " 18.8 18.7 18.5 18.3 21.2 19.2 20.4 19.3 22.  20.3 20.5 17.3 18.8 21.4\n",
      " 15.7 16.2 18.  14.3 19.2 19.6 23.  18.4 15.6 18.1 17.4 17.1 13.3 17.8\n",
      " 14.  14.4 13.4 15.6 11.8 13.8 15.6 14.6 17.8 15.4 21.5 19.6 15.3 19.4\n",
      " 17.  15.6 13.1 41.3 24.3 23.3 27.  50.  50.  50.  22.7 25.  50.  23.8\n",
      " 23.8 22.3 17.4 19.1 23.1 23.6 22.6 29.4 23.2 24.6 29.9 37.2 39.8 36.2\n",
      " 37.9 32.5 26.4 29.6 50.  32.  29.8 34.9 37.  30.5 36.4 31.1 29.1 50.\n",
      " 33.3 30.3 34.6 34.9 32.9 24.1 42.3 48.5 50.  22.6 24.4 22.5 24.4 20.\n",
      " 21.7 19.3 22.4 28.1 23.7 25.  23.3 28.7 21.5 23.  26.7 21.7 27.5 30.1\n",
      " 44.8 50.  37.6 31.6 46.7 31.5 24.3 31.7 41.7 48.3 29.  24.  25.1 31.5\n",
      " 23.7 23.3 22.  20.1 22.2 23.7 17.6 18.5 24.3 20.5 24.5 26.2 24.4 24.8\n",
      " 29.6 42.8 21.9 20.9 44.  50.  36.  30.1 33.8 43.1 48.8 31.  36.5 22.8\n",
      " 30.7 50.  43.5 20.7 21.1 25.2 24.4 35.2 32.4 32.  33.2 33.1 29.1 35.1\n",
      " 45.4 35.4 46.  50.  32.2 22.  20.1 23.2 22.3 24.8 28.5 37.3 27.9 23.9\n",
      " 21.7 28.6 27.1 20.3 22.5 29.  24.8 22.  26.4 33.1 36.1 28.4 33.4 28.2\n",
      " 22.8 20.3 16.1 22.1 19.4 21.6 23.8 16.2 17.8 19.8 23.1 21.  23.8 23.1\n",
      " 20.4 18.5 25.  24.6 23.  22.2 19.3 22.6 19.8 17.1 19.4 22.2 20.7 21.1\n",
      " 19.5 18.5 20.6 19.  18.7 32.7 16.5 23.9 31.2 17.5 17.2 23.1 24.5 26.6\n",
      " 22.9 24.1 18.6 30.1 18.2 20.6 17.8 21.7 22.7 22.6 25.  19.9 20.8 16.8\n",
      " 21.9 27.5 21.9 23.1 50.  50.  50.  50.  50.  13.8 13.8 15.  13.9 13.3\n",
      " 13.1 10.2 10.4 10.9 11.3 12.3  8.8  7.2 10.5  7.4 10.2 11.5 15.1 23.2\n",
      "  9.7 13.8 12.7 13.1 12.5  8.5  5.   6.3  5.6  7.2 12.1  8.3  8.5  5.\n",
      " 11.9 27.9 17.2 27.5 15.  17.2 17.9 16.3  7.   7.2  7.5 10.4  8.8  8.4\n",
      " 16.7 14.2 20.8 13.4 11.7  8.3 10.2 10.9 11.   9.5 14.5 14.1 16.1 14.3\n",
      " 11.7 13.4  9.6  8.7  8.4 12.8 10.5 17.1 18.4 15.4 10.8 11.8 14.9 12.6\n",
      " 14.1 13.  13.4 15.2 16.1 17.8 14.9 14.1 12.7 13.5 14.9 20.  16.4 17.7\n",
      " 19.5 20.2 21.4 19.9 19.  19.1 19.1 20.1 19.9 19.6 23.2 29.8 13.8 13.3\n",
      " 16.7 12.  14.6 21.4 23.  23.7 25.  21.8 20.6 21.2 19.1 20.6 15.2  7.\n",
      "  8.1 13.6 20.1 21.8 24.5 23.1 19.7 18.3 21.2 17.5 16.8 22.4 20.6 23.9\n",
      " 22.  11.9]\n"
     ]
    }
   ],
   "source": [
    "from sklearn.model_selection import train_test_split\n",
    "from sklearn.metrics import mean_squared_error\n",
    "from sklearn.datasets import load_boston\n",
    "from sklearn.ensemble import AdaBoostRegressor\n",
    "\n",
    "# 加载数据\n",
    "data=load_boston()\n",
    "print(data.data)\n",
    "print('-'*30)\n",
    "print(data.target)\n",
    "# CRIM -> 城镇人均犯罪率\n",
    "# ZN -> 住宅用地比例\n",
    "# INDUS -> 非零售商业用地比例\n",
    "# CHAS -> \n",
    "# NOX -> 一氧化碳浓度\n",
    "# RM -> 每个住宅的平均房间数\n",
    "# AGE -> 1940年以前自用房屋的比例\n",
    "# DIS -> 距离五个波士顿就业中心的加权距离\n",
    "# RAD -> 距离高速公路的便捷指数\n",
    "# TAX -> 每一万美元的不动产税率\n",
    "# PRTATIO -> 该地区教师学生比例\n",
    "# B -> 该地区黑人比例\n",
    "# LSTAT -> 中低收入阶层比例"
   ]
  },
  {
   "cell_type": "code",
   "execution_count": 3,
   "metadata": {},
   "outputs": [],
   "source": [
    "# 分割数据\n",
    "train_x, test_x, train_y, test_y = train_test_split(data.data, data.target, test_size=0.25, random_state=33)"
   ]
  },
  {
   "cell_type": "code",
   "execution_count": 26,
   "metadata": {},
   "outputs": [
    {
     "name": "stdout",
     "output_type": "stream",
     "text": [
      "房价预测结果 [20.32       11.37066667 15.34347826 18.18095238 25.48086957 22.39906542\n",
      " 28.68546512 18.34309392 28.68546512 20.2025     29.865625   33.34313725\n",
      " 11.97454545 24.5893617  14.09411765 25.06387097 17.76944444 17.50368421\n",
      " 28.50733945 25.06387097 18.18095238 18.34309392 18.1125     18.42439024\n",
      " 30.25625    18.38341969 22.30857143 25.02129964 11.68372093 29.3106383\n",
      " 17.9969697  26.33416667 10.91333333 21.87953216 25.93303571 29.865625\n",
      " 25.93303571 11.97454545 14.39142857 25.65048544 15.96       11.97454545\n",
      " 28.68546512 17.66949153 26.43777778 19.23793103 18.38341969 19.84545455\n",
      " 26.43777778 19.66100629 18.18095238 33.1        16.17272727 17.58039216\n",
      " 25.93303571 21.48571429 25.02129964 17.51       25.06387097 22.39666667\n",
      " 19.28888889 18.18095238 44.05833333 21.83191489 17.76944444 26.43777778\n",
      " 25.93303571 11.91886792 18.38341969 28.68546512 22.39906542 18.41842105\n",
      " 18.18095238 27.56938776 19.66100629 46.07901235 16.27272727 11.13684211\n",
      " 17.50368421 25.02129964 21.04303797 13.28409091 12.11       25.65048544\n",
      " 21.04303797 21.89054054 47.0625     17.00833333 42.         30.25625\n",
      " 28.59953488 18.86098655 18.38341969 17.78333333 16.         33.1\n",
      " 24.02061069 22.39906542 18.38341969 18.41458333 15.90212766 20.08571429\n",
      " 27.30095238 25.65048544 11.79767442 16.2212766  11.91886792 26.43777778\n",
      " 11.97454545 26.43777778 47.01509434 12.11       17.9969697  25.48086957\n",
      " 30.16463415 25.02129964 21.89054054 21.83191489 27.58814433 21.62631579\n",
      " 20.08571429 18.41458333 12.11       21.62631579 22.39666667 16.33181818\n",
      " 43.46764706]\n",
      "均方误差 =  18.85\n"
     ]
    }
   ],
   "source": [
    "# 使用AdaBoost回归模型\n",
    "regressor = AdaBoostRegressor()\n",
    "regressor.fit(train_x, train_y)\n",
    "pred_y = regressor.predict(test_x)\n",
    "mse = mean_squared_error(test_y, pred_y)\n",
    "print('房价预测结果', pred_y)\n",
    "print('均方误差 = ', round(mse, 2))"
   ]
  },
  {
   "cell_type": "markdown",
   "metadata": {},
   "source": [
    "# AdaBoost 与决策树模型的比较"
   ]
  },
  {
   "cell_type": "code",
   "execution_count": 49,
   "metadata": {},
   "outputs": [
    {
     "data": {
      "text/plain": [
       "AdaBoostClassifier(base_estimator=DecisionTreeClassifier(max_depth=1),\n",
       "                   n_estimators=200)"
      ]
     },
     "execution_count": 49,
     "metadata": {},
     "output_type": "execute_result"
    }
   ],
   "source": [
    "import numpy as np\n",
    "import matplotlib.pyplot as plt\n",
    "from sklearn import datasets\n",
    "from sklearn.metrics import zero_one_loss\n",
    "from sklearn.tree import DecisionTreeClassifier\n",
    "from sklearn.ensemble import AdaBoostClassifier\n",
    "\n",
    "# 设置迭代次数\n",
    "n_estimators = 200\n",
    "# 使用\n",
    "X,y = datasets.make_hastie_10_2(n_samples = 12000, random_state = 1)\n",
    "# 从12000个数据中取前2000行作为测试集，其余为训练集\n",
    "train_x, train_y = X[2000:], y[2000:]\n",
    "test_x, test_y = X[:2000], y[:2000]\n",
    "\n",
    "# 弱分类器\n",
    "dt_stump = DecisionTreeClassifier(max_depth = 1,min_samples_leaf = 1)\n",
    "dt_stump.fit(train_x,train_y)\n",
    "dt_stump_err = 1.0 - dt_stump.score(test_x, test_y)\n",
    "\n",
    "# 决策树分类器\n",
    "dt = DecisionTreeClassifier()\n",
    "dt.fit(train_x, train_y)\n",
    "dt_err = 1.0 - dt.score(test_x, test_y)\n",
    "\n",
    "# AdaBoost分类器\n",
    "ada = AdaBoostClassifier(base_estimator = dt_stump, n_estimators = n_estimators)\n",
    "ada.fit(train_x, train_y)\n"
   ]
  },
  {
   "cell_type": "code",
   "execution_count": 62,
   "metadata": {},
   "outputs": [
    {
     "data": {
      "image/png": "[encoded data removed]",
      "text/plain": [
       "<Figure size 432x288 with 1 Axes>"
      ]
     },
     "metadata": {
      "needs_background": "light"
     },
     "output_type": "display_data"
    }
   ],
   "source": [
    "# 三个分类器错误率可视化\n",
    "fig = plt.figure()\n",
    "\n",
    "# 设置plt正确显示中文\n",
    "plt.rcParams['font.sans-serif'] = ['simsun']\n",
    "ax = fig.add_subplot(111)\n",
    "ax.plot([1,n_estimators],[dt_stump_err]*2, 'k-', label=u'决策树弱分类器 错误率')\n",
    "ax.plot([1,n_estimators],[dt_err]*2,'k--', label=u'决策树模型 错误率')\n",
    "ada_err = np.zeros((n_estimators,))\n",
    "\n",
    "# 遍历每次迭代的结果 i为迭代次数, pred_y为预测结果\n",
    "for i,pred_y in enumerate(ada.staged_predict(test_x)): \n",
    "    # 统计错误率 \n",
    "    ada_err[i]=zero_one_loss(pred_y, test_y)\n",
    "    \n",
    "# 绘制每次迭代的AdaBoost错误率 \n",
    "ax.plot(np.arange(n_estimators)+1, ada_err, label='AdaBoost Test 错误率', color='orange')\n",
    "ax.set_xlabel('迭代次数')\n",
    "ax.set_ylabel('错误率')\n",
    "leg=ax.legend(loc='upper right',fancybox=True)\n",
    "plt.show()"
   ]
  }
 ],
 "metadata": {
  "kernelspec": {
   "display_name": "Python 3",
   "language": "python",
   "name": "python3"
  },
  "language_info": {
   "codemirror_mode": {
    "name": "ipython",
    "version": 3
   },
   "file_extension": ".py",
   "mimetype": "text/x-python",
   "name": "python",
   "nbconvert_exporter": "python",
   "pygments_lexer": "ipython3",
   "version": "3.8.3"
  }
 },
 "nbformat": 4,
 "nbformat_minor": 4
}
