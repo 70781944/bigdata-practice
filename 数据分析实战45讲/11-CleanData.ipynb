{
 "cells": [
  {
   "cell_type": "markdown",
   "metadata": {},
   "source": [
    "# 数据清理要素"
   ]
  },
  {
   "cell_type": "code",
   "execution_count": 1,
   "metadata": {},
   "outputs": [
    {
     "name": "stdout",
     "output_type": "stream",
     "text": [
      "             name   age      weight     A     B     C     D     E     F\n",
      "0    Mickey Mouse  56.0       70kgs  72.0  69.0  71.0   NaN   NaN   NaN\n",
      "1     Donald Duck  34.0   154.89lbs   NaN   NaN   NaN  85.0  84.0  76.0\n",
      "2      Mini Mouse  16.0        None   NaN   NaN   NaN  65.0  69.0  72.0\n",
      "3  Scrooge McDuck   NaN       78kgs  78.0  79.0  72.0   NaN   NaN   NaN\n",
      "4    Pink Panther  54.0  198.658lbs   NaN   NaN   NaN  69.0   NaN  75.0\n",
      "5            None   NaN        None   NaN   NaN   NaN   NaN   NaN   NaN\n",
      "6     Huey McDuck  52.0      189lbs   NaN   NaN   NaN  68.0  75.0  72.0\n",
      "7     Huey McDuck  52.0      189lbs   NaN   NaN   NaN  68.0  75.0  72.0\n"
     ]
    }
   ],
   "source": [
    "#数据准备\n",
    "import pandas as pd\n",
    "from pandas import DataFrame\n",
    "\n",
    "df = DataFrame({\n",
    "    'name':['Mickey Mouse','Donald Duck','Mini Mouse','Scrooge McDuck','Pink Panther',None,'Huey McDuck','Huey McDuck'],\n",
    "    'age':[56,34,16,None,54,None,52,52],\n",
    "    'weight':['70kgs','154.89lbs',None,'78kgs','198.658lbs',None,'189lbs','189lbs'],\n",
    "    'A':[72,None,None,78,None,None,None,None],\n",
    "    'B':[69,None,None,79,None,None,None,None],\n",
    "    'C':[71,None,None,72,None,None,None,None],\n",
    "    'D':[None,85,65,None,69,None,68,68],\n",
    "    'E':[None,84,69,None,None,None,75,75],\n",
    "    'F':[None,76,72,None,75,None,72,72]\n",
    "})\n",
    "\n",
    "print(df)"
   ]
  },
  {
   "cell_type": "markdown",
   "metadata": {},
   "source": [
    "# 1.完整性:单条数据是否存在空值，统计的字段是否完善"
   ]
  },
  {
   "cell_type": "code",
   "execution_count": 2,
   "metadata": {},
   "outputs": [
    {
     "name": "stdout",
     "output_type": "stream",
     "text": [
      "             name   age      weight     A     B     C     D     E     F\n",
      "0    Mickey Mouse  56.0       70kgs  72.0  69.0  71.0   NaN   NaN   NaN\n",
      "1     Donald Duck  34.0   154.89lbs   NaN   NaN   NaN  85.0  84.0  76.0\n",
      "2      Mini Mouse  16.0        None   NaN   NaN   NaN  65.0  69.0  72.0\n",
      "3  Scrooge McDuck   NaN       78kgs  78.0  79.0  72.0   NaN   NaN   NaN\n",
      "4    Pink Panther  54.0  198.658lbs   NaN   NaN   NaN  69.0   NaN  75.0\n",
      "6     Huey McDuck  52.0      189lbs   NaN   NaN   NaN  68.0  75.0  72.0\n",
      "7     Huey McDuck  52.0      189lbs   NaN   NaN   NaN  68.0  75.0  72.0\n"
     ]
    }
   ],
   "source": [
    "# 空行\n",
    "df.dropna(how='all',inplace=True)\n",
    "print(df)"
   ]
  },
  {
   "cell_type": "code",
   "execution_count": 3,
   "metadata": {},
   "outputs": [
    {
     "name": "stdout",
     "output_type": "stream",
     "text": [
      "             name   age      weight     A     B     C     D     E     F\n",
      "0    Mickey Mouse  56.0       70kgs  72.0  69.0  71.0   NaN   NaN   NaN\n",
      "1     Donald Duck  34.0   154.89lbs   NaN   NaN   NaN  85.0  84.0  76.0\n",
      "2      Mini Mouse  16.0        None   NaN   NaN   NaN  65.0  69.0  72.0\n",
      "3  Scrooge McDuck   NaN       78kgs  78.0  79.0  72.0   NaN   NaN   NaN\n",
      "4    Pink Panther  54.0  198.658lbs   NaN   NaN   NaN  69.0   NaN  75.0\n",
      "6     Huey McDuck  52.0      189lbs   NaN   NaN   NaN  68.0  75.0  72.0\n"
     ]
    }
   ],
   "source": [
    "# 重复行\n",
    "df = df.drop_duplicates()\n",
    "print(df)"
   ]
  },
  {
   "cell_type": "code",
   "execution_count": 4,
   "metadata": {},
   "outputs": [
    {
     "name": "stdout",
     "output_type": "stream",
     "text": [
      "             name   age      weight     A     B     C     D     E     F\n",
      "0    Mickey Mouse  56.0       70kgs  72.0  69.0  71.0   NaN   NaN   NaN\n",
      "1     Donald Duck  34.0   154.89lbs   NaN   NaN   NaN  85.0  84.0  76.0\n",
      "2      Mini Mouse  16.0        None   NaN   NaN   NaN  65.0  69.0  72.0\n",
      "3  Scrooge McDuck  42.4       78kgs  78.0  79.0  72.0   NaN   NaN   NaN\n",
      "4    Pink Panther  54.0  198.658lbs   NaN   NaN   NaN  69.0   NaN  75.0\n",
      "6     Huey McDuck  52.0      189lbs   NaN   NaN   NaN  68.0  75.0  72.0\n"
     ]
    }
   ],
   "source": [
    "# 缺失值\n",
    "# 1. 填充平均值\n",
    "df['age'].fillna(df['age'].mean(),inplace = True)\n",
    "print(df)"
   ]
  },
  {
   "cell_type": "code",
   "execution_count": 5,
   "metadata": {},
   "outputs": [
    {
     "name": "stdout",
     "output_type": "stream",
     "text": [
      "             name   age      weight     A     B     C     D     E     F\n",
      "0    Mickey Mouse  56.0       70kgs  72.0  69.0  71.0  68.0   NaN   NaN\n",
      "1     Donald Duck  34.0   154.89lbs   NaN   NaN   NaN  85.0  84.0  76.0\n",
      "2      Mini Mouse  16.0        None   NaN   NaN   NaN  65.0  69.0  72.0\n",
      "3  Scrooge McDuck  42.4       78kgs  78.0  79.0  72.0  68.0   NaN   NaN\n",
      "4    Pink Panther  54.0  198.658lbs   NaN   NaN   NaN  69.0   NaN  75.0\n",
      "6     Huey McDuck  52.0      189lbs   NaN   NaN   NaN  68.0  75.0  72.0\n"
     ]
    }
   ],
   "source": [
    "# 2. 填充高频值\n",
    "age_maxf = df['D'].value_counts().index[0]\n",
    "df['D'].fillna(age_maxf,inplace=True)\n",
    "print(df)"
   ]
  },
  {
   "cell_type": "markdown",
   "metadata": {},
   "source": [
    "# 2.全面性"
   ]
  },
  {
   "cell_type": "code",
   "execution_count": 6,
   "metadata": {},
   "outputs": [
    {
     "name": "stdout",
     "output_type": "stream",
     "text": [
      "           name   age      weight   A   B   C     D     E     F\n",
      "1   Donald Duck  34.0   154.89lbs NaN NaN NaN  85.0  84.0  76.0\n",
      "4  Pink Panther  54.0  198.658lbs NaN NaN NaN  69.0   NaN  75.0\n",
      "6   Huey McDuck  52.0      189lbs NaN NaN NaN  68.0  75.0  72.0\n",
      "             name   age weight     A     B     C     D     E     F\n",
      "0    Mickey Mouse  56.0  70kgs  72.0  69.0  71.0  68.0   NaN   NaN\n",
      "1     Donald Duck  34.0  70kgs   NaN   NaN   NaN  85.0  84.0  76.0\n",
      "2      Mini Mouse  16.0   None   NaN   NaN   NaN  65.0  69.0  72.0\n",
      "3  Scrooge McDuck  42.4  78kgs  78.0  79.0  72.0  68.0   NaN   NaN\n",
      "4    Pink Panther  54.0  90kgs   NaN   NaN   NaN  69.0   NaN  75.0\n",
      "6     Huey McDuck  52.0  85kgs   NaN   NaN   NaN  68.0  75.0  72.0\n"
     ]
    }
   ],
   "source": [
    "# 单位统一\n",
    "# 获取weight数列中单位为lbs的数据\n",
    "rows_with_lbs = df['weight'].str.contains('lbs').fillna(False)\n",
    "print(df[rows_with_lbs])\n",
    "\n",
    "# 将lbs转换为kgs, 2.2lbs=1kgs\n",
    "for i,lbs_row in df[rows_with_lbs].iterrows():\n",
    "    # 截取从头开始到倒数第三个字符之前，即去掉lbs\n",
    "    weight = int(float(lbs_row['weight'][:-3])/2.2)\n",
    "    df.at[i,'weight'] = '{}kgs'.format(weight)\n",
    "    \n",
    "print(df)"
   ]
  },
  {
   "cell_type": "markdown",
   "metadata": {},
   "source": [
    "# 3.合理性"
   ]
  },
  {
   "cell_type": "markdown",
   "metadata": {},
   "source": [
    "* 删除非 ASCII 字符\n",
    "* df['first_name'].replace({r'[^\\x00-\\x7F]+':''}, regex=True, inplace=True)\n",
    "* df['last_name'].replace({r'[^\\x00-\\x7F]+':''}, regex=True, inplace=True)"
   ]
  },
  {
   "cell_type": "markdown",
   "metadata": {},
   "source": [
    "# 4.唯一性"
   ]
  },
  {
   "cell_type": "code",
   "execution_count": 7,
   "metadata": {},
   "outputs": [
    {
     "name": "stdout",
     "output_type": "stream",
     "text": [
      "    age weight     A     B     C     D     E     F first_name last_name\n",
      "0  56.0  70kgs  72.0  69.0  71.0  68.0   NaN   NaN     Mickey     Mouse\n",
      "1  34.0  70kgs   NaN   NaN   NaN  85.0  84.0  76.0     Donald      Duck\n",
      "2  16.0   None   NaN   NaN   NaN  65.0  69.0  72.0       Mini     Mouse\n",
      "3  42.4  78kgs  78.0  79.0  72.0  68.0   NaN   NaN    Scrooge    McDuck\n",
      "4  54.0  90kgs   NaN   NaN   NaN  69.0   NaN  75.0       Pink   Panther\n",
      "6  52.0  85kgs   NaN   NaN   NaN  68.0  75.0  72.0       Huey    McDuck\n"
     ]
    }
   ],
   "source": [
    "# 一列有多个参数\n",
    "# 切分名字\n",
    "df[['first_name','last_name']] = df['name'].str.split(expand=True)\n",
    "df.drop('name',axis=1,inplace=True)\n",
    "print(df)"
   ]
  }
 ],
 "metadata": {
  "kernelspec": {
   "display_name": "Python 3",
   "language": "python",
   "name": "python3"
  },
  "language_info": {
   "codemirror_mode": {
    "name": "ipython",
    "version": 3
   },
   "file_extension": ".py",
   "mimetype": "text/x-python",
   "name": "python",
   "nbconvert_exporter": "python",
   "pygments_lexer": "ipython3",
   "version": "3.8.3"
  }
 },
 "nbformat": 4,
 "nbformat_minor": 4
}
