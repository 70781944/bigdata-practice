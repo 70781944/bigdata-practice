{
 "cells": [
  {
   "cell_type": "markdown",
   "metadata": {},
   "source": [
    "# 输入输出"
   ]
  },
  {
   "cell_type": "code",
   "execution_count": 1,
   "metadata": {},
   "outputs": [
    {
     "name": "stdout",
     "output_type": "stream",
     "text": [
      "What's your name?Kevin\n",
      "hello Kevin\n",
      "sum = 200\n"
     ]
    }
   ],
   "source": [
    "name = input(\"What's your name?\")\n",
    "sum = 100 + 100\n",
    "print('hello %s' %name)\n",
    "print('sum = %d' %sum)"
   ]
  },
  {
   "cell_type": "markdown",
   "metadata": {},
   "source": [
    "# 判断语句"
   ]
  },
  {
   "cell_type": "code",
   "execution_count": 10,
   "metadata": {},
   "outputs": [
    {
     "name": "stdout",
     "output_type": "stream",
     "text": [
      "Excellent\n"
     ]
    }
   ],
   "source": [
    "score = 100\n",
    "if score >= 90:\n",
    "    print('Excellent')\n",
    "else:\n",
    "    if score < 60:\n",
    "        print('Fail')\n",
    "    else:\n",
    "        print('Good')\n",
    "        "
   ]
  },
  {
   "cell_type": "markdown",
   "metadata": {},
   "source": [
    "# 循环语句: if"
   ]
  },
  {
   "cell_type": "code",
   "execution_count": 11,
   "metadata": {},
   "outputs": [
    {
     "name": "stdout",
     "output_type": "stream",
     "text": [
      "55\n"
     ]
    }
   ],
   "source": [
    "sum = 0\n",
    "for number in range(11):\n",
    "    sum = sum + number\n",
    "print(sum)"
   ]
  },
  {
   "cell_type": "markdown",
   "metadata": {},
   "source": [
    "# 循环语句: while"
   ]
  },
  {
   "cell_type": "code",
   "execution_count": 12,
   "metadata": {},
   "outputs": [
    {
     "name": "stdout",
     "output_type": "stream",
     "text": [
      "55\n"
     ]
    }
   ],
   "source": [
    "sum = 0\n",
    "number = 1\n",
    "while number < 11:\n",
    "    sum = sum + number\n",
    "    number = number + 1\n",
    "print(sum)"
   ]
  },
  {
   "cell_type": "markdown",
   "metadata": {},
   "source": [
    "# 列表: []"
   ]
  },
  {
   "cell_type": "code",
   "execution_count": 13,
   "metadata": {},
   "outputs": [
    {
     "name": "stdout",
     "output_type": "stream",
     "text": [
      "['a', 'b', 'c', 'd']\n",
      "['mm', 'a', 'b', 'c']\n"
     ]
    }
   ],
   "source": [
    "lists = ['a','b','c']\n",
    "lists.append('d')\n",
    "print(lists)\n",
    "lists.insert(0,'mm')\n",
    "lists.pop()\n",
    "print(lists)"
   ]
  },
  {
   "cell_type": "markdown",
   "metadata": {},
   "source": [
    "# 元组"
   ]
  },
  {
   "cell_type": "code",
   "execution_count": 15,
   "metadata": {},
   "outputs": [
    {
     "name": "stdout",
     "output_type": "stream",
     "text": [
      "tupleA\n"
     ]
    }
   ],
   "source": [
    "#元组一旦创建不能修改，可以跟数组一样访问\n",
    "tuples = ('tupleA','tupleB')\n",
    "print(tuples[0])"
   ]
  },
  {
   "cell_type": "markdown",
   "metadata": {},
   "source": [
    "# 字典"
   ]
  },
  {
   "cell_type": "code",
   "execution_count": 16,
   "metadata": {},
   "outputs": [
    {
     "name": "stdout",
     "output_type": "stream",
     "text": [
      "{'guanyu': 95, 'zhangfei': 96, 'zhaoyun': 98}\n",
      "True\n",
      "95\n",
      "zhanfei not exist\n"
     ]
    }
   ],
   "source": [
    "#定义字典\n",
    "score = {'guanyu':95,'zhangfei':96}\n",
    "#添加元素\n",
    "score['zhaoyun'] = 98\n",
    "print(score)\n",
    "#删除元素\n",
    "score.pop('zhangfei')\n",
    "#查看元素是否存在\n",
    "print('guanyu' in score)\n",
    "#查看key的值\n",
    "print(score.get('guanyu'))\n",
    "if 'zhangfei' in score:\n",
    "    print(score.get('zhangfei'))\n",
    "else:\n",
    "    print('zhanfei not exist')\n",
    "    \n",
    "\n"
   ]
  },
  {
   "cell_type": "markdown",
   "metadata": {},
   "source": [
    "# 集合: Set"
   ]
  },
  {
   "cell_type": "code",
   "execution_count": 18,
   "metadata": {},
   "outputs": [
    {
     "name": "stdout",
     "output_type": "stream",
     "text": [
      "{'d', 'a', 'c'}\n",
      "True\n"
     ]
    }
   ],
   "source": [
    "s = set(['a','b','c'])\n",
    "s.add('d')\n",
    "s.remove('b')\n",
    "print(s)\n",
    "print('c' in s)"
   ]
  },
  {
   "cell_type": "markdown",
   "metadata": {},
   "source": [
    "# 函数: def"
   ]
  },
  {
   "cell_type": "code",
   "execution_count": 19,
   "metadata": {},
   "outputs": [
    {
     "name": "stdout",
     "output_type": "stream",
     "text": [
      "100\n"
     ]
    }
   ],
   "source": [
    "def addone(score):\n",
    "    return score + 1\n",
    "print(addone(99))"
   ]
  },
  {
   "cell_type": "markdown",
   "metadata": {},
   "source": [
    "# 刷题网站"
   ]
  },
  {
   "cell_type": "markdown",
   "metadata": {},
   "source": [
    "http://acm.zju.edu.cn/onlinejudge/showProblem.do?problemId=1\n",
    "\n",
    "例：\n",
    "\n",
    "INPUT\n",
    "1 5\n",
    "OUTPUT\n",
    "6"
   ]
  },
  {
   "cell_type": "code",
   "execution_count": null,
   "metadata": {},
   "outputs": [
    {
     "name": "stdout",
     "output_type": "stream",
     "text": [
      "1 5\n",
      "6\n"
     ]
    }
   ],
   "source": [
    "while True:\n",
    "    try:\n",
    "        line = input()\n",
    "        a = line.split()\n",
    "        print(int(a[0]) + int(a[1]))\n",
    "    except:\n",
    "        break"
   ]
  }
 ],
 "metadata": {
  "kernelspec": {
   "display_name": "Python 3",
   "language": "python",
   "name": "python3"
  },
  "language_info": {
   "codemirror_mode": {
    "name": "ipython",
    "version": 3
   },
   "file_extension": ".py",
   "mimetype": "text/x-python",
   "name": "python",
   "nbconvert_exporter": "python",
   "pygments_lexer": "ipython3",
   "version": "3.8.3"
  }
 },
 "nbformat": 4,
 "nbformat_minor": 4
}
