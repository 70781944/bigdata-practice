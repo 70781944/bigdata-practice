{
 "cells": [
  {
   "cell_type": "markdown",
   "metadata": {},
   "source": [
    "# 数据结构: Series和DataFrame"
   ]
  },
  {
   "cell_type": "code",
   "execution_count": 1,
   "metadata": {},
   "outputs": [
    {
     "name": "stdout",
     "output_type": "stream",
     "text": [
      "0    1\n",
      "1    2\n",
      "2    3\n",
      "3    4\n",
      "dtype: int64\n",
      "a    1\n",
      "b    2\n",
      "c    3\n",
      "d    4\n",
      "dtype: int64\n"
     ]
    }
   ],
   "source": [
    "import pandas as pd\n",
    "from pandas import Series, DataFrame\n",
    "x1 = Series([1,2,3,4])\n",
    "x2 = Series(data=[1,2,3,4], index=['a','b','c','d'])\n",
    "print(x1)\n",
    "print(x2)"
   ]
  },
  {
   "cell_type": "code",
   "execution_count": 2,
   "metadata": {},
   "outputs": [
    {
     "name": "stdout",
     "output_type": "stream",
     "text": [
      "a    1\n",
      "b    2\n",
      "c    3\n",
      "d    4\n",
      "dtype: int64\n"
     ]
    }
   ],
   "source": [
    "d = {'a':1,'b':2,'c':3,'d':4}\n",
    "x3 = Series(d)\n",
    "print(x3)"
   ]
  },
  {
   "cell_type": "markdown",
   "metadata": {},
   "source": [
    "# DataFrame 类型数据结构类似数据库表"
   ]
  },
  {
   "cell_type": "code",
   "execution_count": 7,
   "metadata": {},
   "outputs": [
    {
     "name": "stdout",
     "output_type": "stream",
     "text": [
      "   Chinese  English  Math\n",
      "0       66       65    30\n",
      "1       95       85    98\n",
      "2       93       92    96\n",
      "3       90       88    77\n",
      "4       80       90    90\n",
      "            Chinese  English  Math\n",
      "zhangfei         66       65    30\n",
      "guanyu           95       85    98\n",
      "zhaoyun          93       92    96\n",
      "huangzhong       90       88    77\n",
      "dianwei          80       90    90\n"
     ]
    }
   ],
   "source": [
    "data = {'Chinese':[66,95,93,90,80],'English':[65,85,92,88,90],'Math':[30,98,96,77,90]}\n",
    "df1 = DataFrame(data)\n",
    "df2 = DataFrame(data, index=['zhangfei','guanyu','zhaoyun','huangzhong','dianwei'],columns=['Chinese','English','Math'])\n",
    "print(df1)\n",
    "print(df2)"
   ]
  },
  {
   "cell_type": "markdown",
   "metadata": {},
   "source": [
    "# 数据导入和输出"
   ]
  },
  {
   "cell_type": "code",
   "execution_count": 4,
   "metadata": {},
   "outputs": [
    {
     "name": "stdout",
     "output_type": "stream",
     "text": [
      "         name  chinese  math  english\n",
      "0    zhangfei       66    65       30\n",
      "1      guanyu       95    85       98\n",
      "2     zhaoyun       93    92       96\n",
      "3  huangzhong       90    88       77\n",
      "4     dianwei       80    90       90\n"
     ]
    }
   ],
   "source": [
    "import pandas as pd\n",
    "from pandas import Series, DataFrame\n",
    "\n",
    "score = DataFrame(pd.read_csv('05-sample.csv'))\n",
    "print(score)\n",
    "score.to_csv('05-sample2.csv')"
   ]
  },
  {
   "cell_type": "markdown",
   "metadata": {},
   "source": [
    "# 数据清理"
   ]
  },
  {
   "cell_type": "code",
   "execution_count": 6,
   "metadata": {},
   "outputs": [
    {
     "name": "stdout",
     "output_type": "stream",
     "text": [
      "            English  Math  Chinese\n",
      "ZhangFei         65    30       66\n",
      "GuanYu           85    98       95\n",
      "ZhaoYun          92    96       93\n",
      "HuangZhong       88    77       90\n",
      "DianWei          90    90       80\n",
      "            English  Math\n",
      "GuanYu           85    98\n",
      "ZhaoYun          92    96\n",
      "HuangZhong       88    77\n",
      "DianWei          90    90\n"
     ]
    }
   ],
   "source": [
    "data = {'Chinese': [66, 95, 93, 90,80],'English': [65, 85, 92, 88, 90],'Math': [30, 98, 96, 77, 90]}\n",
    "df2 = DataFrame(data, index=['ZhangFei', 'GuanYu', 'ZhaoYun', 'HuangZhong', 'DianWei'], columns=['English', 'Math', 'Chinese'])\n",
    "print(df2)\n",
    "\n",
    "#删除“Chinese”列\n",
    "df2 = df2.drop(columns = ['Chinese'])\n",
    "\n",
    "#删除“zhangfei”行\n",
    "df2 = df2.drop(index = ['ZhangFei'])\n",
    "print(df2)"
   ]
  },
  {
   "cell_type": "code",
   "execution_count": 7,
   "metadata": {},
   "outputs": [
    {
     "name": "stdout",
     "output_type": "stream",
     "text": [
      "            English  Math  Chinese\n",
      "ZhangFei         65    30       66\n",
      "GuanYu           85    98       95\n",
      "ZhaoYun          92    96       93\n",
      "HuangZhong       88    77       90\n",
      "DianWei          90    90       80\n",
      "            英语  数学  语文\n",
      "ZhangFei    65  30  66\n",
      "GuanYu      85  98  95\n",
      "ZhaoYun     92  96  93\n",
      "HuangZhong  88  77  90\n",
      "DianWei     90  90  80\n"
     ]
    }
   ],
   "source": [
    "#重命名列名\n",
    "data = {'Chinese': [66, 95, 93, 90,80],'English': [65, 85, 92, 88, 90],'Math': [30, 98, 96, 77, 90]}\n",
    "df2 = DataFrame(data, index=['ZhangFei', 'GuanYu', 'ZhaoYun', 'HuangZhong', 'DianWei'], columns=['English', 'Math', 'Chinese'])\n",
    "print(df2)\n",
    "df2.rename(columns={'Chinese':'语文','English':'英语','Math':'数学'}, inplace = True)\n",
    "print(df2)"
   ]
  },
  {
   "cell_type": "code",
   "execution_count": 8,
   "metadata": {},
   "outputs": [
    {
     "name": "stdout",
     "output_type": "stream",
     "text": [
      "            English  Math  Chinese\n",
      "ZhangFei         65    30       66\n",
      "ZhangFei         65    30       66\n",
      "ZhaoYun          92    96       93\n",
      "HuangZhong       88    77       90\n",
      "DianWei          90    90       80\n",
      "            English  Math  Chinese\n",
      "ZhangFei         65    30       66\n",
      "ZhaoYun          92    96       93\n",
      "HuangZhong       88    77       90\n",
      "DianWei          90    90       80\n"
     ]
    }
   ],
   "source": [
    "#去重复的值\n",
    "data = {'Chinese': [66, 66, 93, 90,80],'English': [65, 65, 92, 88, 90],'Math': [30, 30, 96, 77, 90]}\n",
    "df2 = DataFrame(data, index=['ZhangFei', 'ZhangFei', 'ZhaoYun', 'HuangZhong', 'DianWei'], columns=['English', 'Math', 'Chinese'])\n",
    "print(df2)\n",
    "\n",
    "df2 = df2.drop_duplicates()\n",
    "print(df2)"
   ]
  },
  {
   "cell_type": "code",
   "execution_count": 22,
   "metadata": {},
   "outputs": [
    {
     "name": "stdout",
     "output_type": "stream",
     "text": [
      "            English  Math Chinese\n",
      "ZhangFei         65    30     $66\n",
      "GuanYu           85    98     $95\n",
      "ZhaoYun          92    96     $93\n",
      "HuangZhong       88    77     $90\n",
      "DianWei          90    90     $80\n",
      "            English  Math Chinese\n",
      "ZhangFei         65    30      66\n",
      "GuanYu           85    98      95\n",
      "ZhaoYun          92    96      93\n",
      "HuangZhong       88    77      90\n",
      "DianWei          90    90      80\n"
     ]
    }
   ],
   "source": [
    "#更改数据格式\n",
    "import numpy as np\n",
    "data = {'Chinese': ['$66', '$95', '$93','$90','$80'],'English': [65, 85, 92, 88, 90],'Math': [30, 98, 96, 77, 90]}\n",
    "df2 = DataFrame(data, index=['ZhangFei', 'GuanYu', 'ZhaoYun', 'HuangZhong', 'DianWei'], columns=['English', 'Math', 'Chinese'])\n",
    "print(df2)\n",
    "\n",
    "df2['Chinese'].astype('str')\n",
    "df2['Chinese']=df2['Chinese'].str.strip('$')\n",
    "df2['Chinese']=df2['Chinese'].map(str.strip)\n",
    "\n",
    "df2['English'].astype(np.int64)\n",
    "print(df2)"
   ]
  },
  {
   "cell_type": "markdown",
   "metadata": {},
   "source": [
    "# 大小写转换"
   ]
  },
  {
   "cell_type": "code",
   "execution_count": 26,
   "metadata": {},
   "outputs": [
    {
     "name": "stdout",
     "output_type": "stream",
     "text": [
      "            english  math chinese\n",
      "ZhangFei         65    30      66\n",
      "GuanYu           85    98      95\n",
      "ZhaoYun          92    96      93\n",
      "HuangZhong       88    77      90\n",
      "DianWei          90    90      80\n",
      "\n",
      "            English  Math Chinese\n",
      "ZhangFei         65    30      66\n",
      "GuanYu           85    98      95\n",
      "ZhaoYun          92    96      93\n",
      "HuangZhong       88    77      90\n",
      "DianWei          90    90      80\n"
     ]
    }
   ],
   "source": [
    "df2.columns = df2.columns.str.lower()\n",
    "print(df2)\n",
    "print()\n",
    "df2.columns = df2.columns.str.title()\n",
    "print(df2)"
   ]
  },
  {
   "cell_type": "markdown",
   "metadata": {},
   "source": [
    "# 查找空值"
   ]
  },
  {
   "cell_type": "code",
   "execution_count": 38,
   "metadata": {},
   "outputs": [
    {
     "name": "stdout",
     "output_type": "stream",
     "text": [
      "            English  Math  Chinese\n",
      "ZhangFei         65    30     66.0\n",
      "GuanYu           85    98      NaN\n",
      "ZhaoYun          92    96     93.0\n",
      "HuangZhong       88    77     90.0\n",
      "DianWei          90    90     80.0\n",
      "\n"
     ]
    },
    {
     "data": {
      "text/plain": [
       "English    False\n",
       "Math       False\n",
       "Chinese     True\n",
       "dtype: bool"
      ]
     },
     "execution_count": 38,
     "metadata": {},
     "output_type": "execute_result"
    }
   ],
   "source": [
    "data = {'Chinese': [66,None,93,90,80],'English': [65, 85, 92, 88, 90],'Math': [30, 98, 96, 77, 90]}\n",
    "df2 = DataFrame(data, index=['ZhangFei', 'GuanYu', 'ZhaoYun', 'HuangZhong', 'DianWei'], columns=['English', 'Math', 'Chinese'])\n",
    "print(df2)\n",
    "df2.isnull()\n",
    "print()\n",
    "df2.isnull().any()"
   ]
  },
  {
   "cell_type": "markdown",
   "metadata": {},
   "source": [
    "# 使用apply函数对数据进行清洗"
   ]
  },
  {
   "cell_type": "code",
   "execution_count": 39,
   "metadata": {},
   "outputs": [
    {
     "name": "stdout",
     "output_type": "stream",
     "text": [
      "            English  Math  Chinese\n",
      "ZhangFei         65    30       66\n",
      "GuanYu           85    98       95\n",
      "ZhaoYun          92    96       93\n",
      "HuangZhong       88    77       90\n",
      "DianWei          90    90       80\n",
      "\n",
      "            English  Math  Chinese\n",
      "ZhangFei         65    30      132\n",
      "GuanYu           85    98      190\n",
      "ZhaoYun          92    96      186\n",
      "HuangZhong       88    77      180\n",
      "DianWei          90    90      160\n"
     ]
    }
   ],
   "source": [
    "data = {'Chinese': [66, 95, 93,90,80],'English': [65, 85, 92, 88, 90],'Math': [30, 98, 96, 77, 90]}\n",
    "df2 = DataFrame(data, index=['ZhangFei', 'GuanYu', 'ZhaoYun', 'HuangZhong', 'DianWei'], columns=['English', 'Math', 'Chinese'])\n",
    "print(df2)\n",
    "print()\n",
    "\n",
    "#语文成绩x2\n",
    "def double_df(x):\n",
    "    return 2*x\n",
    "df2['Chinese'] = df2['Chinese'].apply(double_df)\n",
    "print(df2)\n"
   ]
  },
  {
   "cell_type": "code",
   "execution_count": 47,
   "metadata": {},
   "outputs": [
    {
     "name": "stdout",
     "output_type": "stream",
     "text": [
      "            English  Math  Chinese\n",
      "ZhangFei         65    30       66\n",
      "GuanYu           85    98       95\n",
      "ZhaoYun          92    96       93\n",
      "HuangZhong       88    77       90\n",
      "DianWei          90    90       80\n",
      "\n",
      "            English  Math  Chinese  (C+E)*n\n",
      "ZhangFei         65    30       66      393\n",
      "GuanYu           85    98       95      540\n",
      "ZhaoYun          92    96       93      555\n",
      "HuangZhong       88    77       90      534\n",
      "DianWei          90    90       80      510\n"
     ]
    }
   ],
   "source": [
    "#新增一列，是语文和英语成绩之和的n倍\n",
    "data = {'Chinese': [66, 95, 93,90,80],'English': [65, 85, 92, 88, 90],'Math': [30, 98, 96, 77, 90]}\n",
    "df2 = DataFrame(data, index=['ZhangFei', 'GuanYu', 'ZhaoYun', 'HuangZhong', 'DianWei'], columns=['English', 'Math', 'Chinese'])\n",
    "print(df2)\n",
    "print()\n",
    "\n",
    "def plus(df,n):\n",
    "    df['(C+E)*n'] = (df['Chinese'] + df['English']) * n\n",
    "    return df\n",
    "\n",
    "df2 = df2.apply(plus, axis = 1, args=(3,))\n",
    "print(df2)"
   ]
  },
  {
   "cell_type": "markdown",
   "metadata": {},
   "source": [
    "# 数据统计"
   ]
  },
  {
   "cell_type": "code",
   "execution_count": 49,
   "metadata": {},
   "outputs": [
    {
     "name": "stdout",
     "output_type": "stream",
     "text": [
      "       name  data1\n",
      "0  zhangfei      0\n",
      "1    guanyu      1\n",
      "2         a      2\n",
      "3         b      3\n",
      "4         c      4\n",
      "          data1\n",
      "count  5.000000\n",
      "mean   2.000000\n",
      "std    1.581139\n",
      "min    0.000000\n",
      "25%    1.000000\n",
      "50%    2.000000\n",
      "75%    3.000000\n",
      "max    4.000000\n"
     ]
    }
   ],
   "source": [
    "df = DataFrame({\n",
    "    'name':['zhangfei','guanyu','a','b','c'],\n",
    "    'data1':range(5)\n",
    "})\n",
    "print(df)\n",
    "print(df.describe())"
   ]
  },
  {
   "cell_type": "markdown",
   "metadata": {},
   "source": [
    "# 数据表合并"
   ]
  },
  {
   "cell_type": "code",
   "execution_count": 56,
   "metadata": {},
   "outputs": [
    {
     "name": "stdout",
     "output_type": "stream",
     "text": [
      "       name  data1\n",
      "0  ZhangFei      0\n",
      "1    GuanYu      1\n",
      "2         a      2\n",
      "3         b      3\n",
      "4         c      4\n",
      "\n",
      "       name  data2\n",
      "0  ZhangFei      0\n",
      "1    GuanYu      1\n",
      "2         A      2\n",
      "3         B      3\n",
      "4         C      4\n"
     ]
    }
   ],
   "source": [
    "df1 = DataFrame({\n",
    "    'name':['ZhangFei','GuanYu','a','b','c'],\n",
    "    'data1':range(5)\n",
    "})\n",
    "df2 = DataFrame({\n",
    "    'name':['ZhangFei','GuanYu','A','B','C'],\n",
    "    'data2':range(5)\n",
    "})\n",
    "print(df1)\n",
    "print()\n",
    "print(df2)"
   ]
  },
  {
   "cell_type": "code",
   "execution_count": 54,
   "metadata": {},
   "outputs": [
    {
     "name": "stdout",
     "output_type": "stream",
     "text": [
      "       name  data1  data2\n",
      "0  ZhangFei      0      0\n",
      "1    GuanYu      1      1\n"
     ]
    }
   ],
   "source": [
    "# 基于指定列进行连接\n",
    "df3 = pd.merge(df1,df2,on = 'name')\n",
    "print(df3)"
   ]
  },
  {
   "cell_type": "code",
   "execution_count": 55,
   "metadata": {},
   "outputs": [
    {
     "name": "stdout",
     "output_type": "stream",
     "text": [
      "       name  data1  data2\n",
      "0  ZhangFei      0      0\n",
      "1    GuanYu      1      1\n"
     ]
    }
   ],
   "source": [
    "# inner内连接\n",
    "df4 = pd.merge(df1,df2,how='inner')\n",
    "print(df4)"
   ]
  },
  {
   "cell_type": "code",
   "execution_count": 57,
   "metadata": {},
   "outputs": [
    {
     "name": "stdout",
     "output_type": "stream",
     "text": [
      "       name  data1  data2\n",
      "0  ZhangFei      0    0.0\n",
      "1    GuanYu      1    1.0\n",
      "2         a      2    NaN\n",
      "3         b      3    NaN\n",
      "4         c      4    NaN\n"
     ]
    }
   ],
   "source": [
    "# left左连接\n",
    "df5 = pd.merge(df1,df2,how='left')\n",
    "print(df5)"
   ]
  },
  {
   "cell_type": "code",
   "execution_count": 58,
   "metadata": {},
   "outputs": [
    {
     "name": "stdout",
     "output_type": "stream",
     "text": [
      "       name  data1  data2\n",
      "0  ZhangFei    0.0      0\n",
      "1    GuanYu    1.0      1\n",
      "2         A    NaN      2\n",
      "3         B    NaN      3\n",
      "4         C    NaN      4\n"
     ]
    }
   ],
   "source": [
    "# right右连接\n",
    "df6 = pd.merge(df1,df2,how='right')\n",
    "print(df6)"
   ]
  },
  {
   "cell_type": "code",
   "execution_count": 59,
   "metadata": {},
   "outputs": [
    {
     "name": "stdout",
     "output_type": "stream",
     "text": [
      "       name  data1  data2\n",
      "0  ZhangFei    0.0    0.0\n",
      "1    GuanYu    1.0    1.0\n",
      "2         a    2.0    NaN\n",
      "3         b    3.0    NaN\n",
      "4         c    4.0    NaN\n",
      "5         A    NaN    2.0\n",
      "6         B    NaN    3.0\n",
      "7         C    NaN    4.0\n"
     ]
    }
   ],
   "source": [
    "# outer外连接\n",
    "df7 = pd.merge(df1,df2,how='outer')\n",
    "print(df7)"
   ]
  },
  {
   "cell_type": "markdown",
   "metadata": {},
   "source": [
    "# 如何使用SQL方式打开Pandas"
   ]
  },
  {
   "cell_type": "markdown",
   "metadata": {},
   "source": [
    "# 练习"
   ]
  },
  {
   "cell_type": "code",
   "execution_count": 78,
   "metadata": {},
   "outputs": [
    {
     "name": "stdout",
     "output_type": "stream",
     "text": [
      "Name       0\n",
      "Chinese    0\n",
      "English    0\n",
      "Math       1\n",
      "dtype: int64\n",
      "\n",
      "   姓名  语文  英语         数学          总分\n",
      "0  张飞  66  65  94.666667  225.666667\n",
      "1  关羽  95  85  98.000000  278.000000\n",
      "2  赵云  95  92  96.000000  283.000000\n",
      "3  黄忠  80  90  90.000000  260.000000\n",
      "              语文         英语         数学          总分\n",
      "count   4.000000   4.000000   4.000000    4.000000\n",
      "mean   84.000000  83.000000  94.666667  261.666667\n",
      "std    13.928388  12.355835   3.399346   25.952949\n",
      "min    66.000000  65.000000  90.000000  225.666667\n",
      "25%    76.500000  80.000000  93.500000  251.416667\n",
      "50%    87.500000  87.500000  95.333333  269.000000\n",
      "75%    95.000000  90.500000  96.500000  279.250000\n",
      "max    95.000000  92.000000  98.000000  283.000000\n"
     ]
    }
   ],
   "source": [
    "import pandas as pd\n",
    "from pandas import DataFrame\n",
    "\n",
    "df = DataFrame({\n",
    "    'Name':['张飞','关羽','赵云','黄忠','黄忠'],\n",
    "    'Chinese':[66,95,95,80,80],\n",
    "    'English':[65,85,92,90,90],\n",
    "    'Math':[None,98,96,90,90]\n",
    "})\n",
    "\n",
    "# 去重复\n",
    "df = df.drop_duplicates()\n",
    "\n",
    "# 查看是否有空值\n",
    "print(df.isnull().sum())\n",
    "print()\n",
    "\n",
    "# 张飞的数学填充平均值\n",
    "df['Math'].fillna(df['Math'].mean(), inplace=True)\n",
    "\n",
    "# 求总分\n",
    "def plus(df):\n",
    "    df['Total'] = df['Chinese'] + df['English'] + df['Math']\n",
    "    return df\n",
    "\n",
    "df = df.apply(plus, axis = 1)\n",
    "\n",
    "# 更改列名\n",
    "df.rename(columns={'Name':'姓名','Chinese':'语文','English':'英语','Math':'数学','Total':'总分'}, inplace = True)\n",
    "\n",
    "print(df)\n",
    "print(df.describe())\n"
   ]
  },
  {
   "cell_type": "code",
   "execution_count": null,
   "metadata": {},
   "outputs": [],
   "source": []
  }
 ],
 "metadata": {
  "kernelspec": {
   "display_name": "Python 3",
   "language": "python",
   "name": "python3"
  },
  "language_info": {
   "codemirror_mode": {
    "name": "ipython",
    "version": 3
   },
   "file_extension": ".py",
   "mimetype": "text/x-python",
   "name": "python",
   "nbconvert_exporter": "python",
   "pygments_lexer": "ipython3",
   "version": "3.8.3"
  }
 },
 "nbformat": 4,
 "nbformat_minor": 4
}
